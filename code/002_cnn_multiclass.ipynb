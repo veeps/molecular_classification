{
 "cells": [
  {
   "cell_type": "code",
   "execution_count": 1,
   "metadata": {},
   "outputs": [],
   "source": [
    "from __future__ import absolute_import, division, print_function, unicode_literals"
   ]
  },
  {
   "cell_type": "code",
   "execution_count": 2,
   "metadata": {},
   "outputs": [],
   "source": [
    "try:\n",
    "  # %tensorflow_version only exists in Colab.\n",
    "  %tensorflow_version 2.x\n",
    "except Exception:\n",
    "  pass\n",
    "import tensorflow as tf"
   ]
  },
  {
   "cell_type": "code",
   "execution_count": 30,
   "metadata": {},
   "outputs": [],
   "source": [
    "from tensorflow.keras.models import Sequential\n",
    "from tensorflow.keras.layers import Dense, Conv2D, Flatten, Dropout, MaxPooling2D, BatchNormalization\n",
    "from tensorflow.keras.preprocessing.image import ImageDataGenerator\n",
    "from tensorflow.keras.applications import VGG16\n",
    "\n",
    "import os\n",
    "import numpy as np\n",
    "import matplotlib.pyplot as plt"
   ]
  },
  {
   "cell_type": "code",
   "execution_count": 4,
   "metadata": {},
   "outputs": [
    {
     "data": {
      "text/plain": [
       "'/Users/vivianpeng/git/molecular_classification/code'"
      ]
     },
     "execution_count": 4,
     "metadata": {},
     "output_type": "execute_result"
    }
   ],
   "source": [
    "pwd"
   ]
  },
  {
   "cell_type": "code",
   "execution_count": 5,
   "metadata": {},
   "outputs": [],
   "source": [
    "train_dir = \"../train_data\"\n",
    "validation_dir = \"../test_data\""
   ]
  },
  {
   "cell_type": "code",
   "execution_count": 6,
   "metadata": {},
   "outputs": [],
   "source": [
    "num_anp_tr = len(os.listdir(\"../train_data/antineoplastic\"))\n",
    "num_cns_tr = len(os.listdir(\"../train_data/cns\"))\n",
    "num_cardio_tr = len(os.listdir(\"../train_data/cardio\"))\n",
    "\n",
    "\n",
    "num_anp_val = len(os.listdir(\"../test_data/antineoplastic\"))\n",
    "num_cns_val = len(os.listdir(\"../test_data/cns\"))\n",
    "num_cardio_val = len(os.listdir(\"../test_data/cardio\"))\n",
    "\n",
    "total_train = num_anp_tr + num_cns_tr\n",
    "total_val = num_anp_val + num_cns_val"
   ]
  },
  {
   "cell_type": "code",
   "execution_count": 7,
   "metadata": {},
   "outputs": [
    {
     "name": "stdout",
     "output_type": "stream",
     "text": [
      "total training antineoplastic images: 751\n",
      "total training cns images: 751\n",
      "total training cardio images: 657\n",
      "total validation antineoplastic images: 350\n",
      "total validation cns images: 350\n",
      "total validation cardio images: 131\n",
      "--\n",
      "Total training images: 1502\n",
      "Total validation images: 700\n"
     ]
    }
   ],
   "source": [
    "print('total training antineoplastic images:', num_anp_tr)\n",
    "print('total training cns images:', num_cns_tr)\n",
    "print('total training cardio images:', num_cardio_tr)\n",
    "\n",
    "print('total validation antineoplastic images:', num_anp_val)\n",
    "print('total validation cns images:', num_cns_val)\n",
    "print('total validation cardio images:', num_cardio_val)\n",
    "print(\"--\")\n",
    "print(\"Total training images:\", total_train)\n",
    "print(\"Total validation images:\", total_val)"
   ]
  },
  {
   "cell_type": "markdown",
   "metadata": {},
   "source": [
    "## Set up batch variables"
   ]
  },
  {
   "cell_type": "code",
   "execution_count": 34,
   "metadata": {},
   "outputs": [],
   "source": [
    "batch_size = 128\n",
    "epochs = 30\n",
    "IMG_HEIGHT = 150\n",
    "IMG_WIDTH = 150"
   ]
  },
  {
   "cell_type": "code",
   "execution_count": 9,
   "metadata": {},
   "outputs": [],
   "source": [
    "train_image_generator = ImageDataGenerator(rescale=1./255) # Generator for our training data\n",
    "validation_image_generator = ImageDataGenerator(rescale=1./255) # Generator for our validation data"
   ]
  },
  {
   "cell_type": "code",
   "execution_count": 18,
   "metadata": {},
   "outputs": [
    {
     "name": "stdout",
     "output_type": "stream",
     "text": [
      "Found 2159 images belonging to 3 classes.\n"
     ]
    }
   ],
   "source": [
    "train_data_gen = train_image_generator.flow_from_directory(batch_size=batch_size,\n",
    "                                                           directory=train_dir,\n",
    "                                                           shuffle=True,\n",
    "                                                           target_size=(IMG_HEIGHT, IMG_WIDTH),\n",
    "                                                           class_mode=\"categorical\")"
   ]
  },
  {
   "cell_type": "code",
   "execution_count": 19,
   "metadata": {},
   "outputs": [
    {
     "name": "stdout",
     "output_type": "stream",
     "text": [
      "Found 831 images belonging to 3 classes.\n"
     ]
    }
   ],
   "source": [
    "val_data_gen = validation_image_generator.flow_from_directory(batch_size=batch_size,\n",
    "                                                              directory=validation_dir,\n",
    "                                                              target_size=(IMG_HEIGHT, IMG_WIDTH),\n",
    "                                                              class_mode='categorical')"
   ]
  },
  {
   "cell_type": "markdown",
   "metadata": {},
   "source": [
    "## Visualize train data"
   ]
  },
  {
   "cell_type": "code",
   "execution_count": 14,
   "metadata": {},
   "outputs": [],
   "source": [
    "sample_training_images, _ = next(train_data_gen)"
   ]
  },
  {
   "cell_type": "code",
   "execution_count": 15,
   "metadata": {},
   "outputs": [],
   "source": [
    "# This function will plot images in the form of a grid with 1 row and 5 columns where images are placed in each column.\n",
    "def plotImages(images_arr):\n",
    "    fig, axes = plt.subplots(1, 5, figsize=(20,20))\n",
    "    axes = axes.flatten()\n",
    "    for img, ax in zip( images_arr, axes):\n",
    "        ax.imshow(img)\n",
    "        ax.axis('off')\n",
    "    plt.tight_layout()\n",
    "    plt.show()"
   ]
  },
  {
   "cell_type": "code",
   "execution_count": 16,
   "metadata": {},
   "outputs": [
    {
     "data": {
      "image/png": "[encoded data removed]",
      "text/plain": [
       "<Figure size 1440x1440 with 5 Axes>"
      ]
     },
     "metadata": {
      "needs_background": "light"
     },
     "output_type": "display_data"
    }
   ],
   "source": [
    "plotImages(sample_training_images[:5])"
   ]
  },
  {
   "cell_type": "markdown",
   "metadata": {},
   "source": [
    "# Model for multi-class"
   ]
  },
  {
   "cell_type": "code",
   "execution_count": 20,
   "metadata": {},
   "outputs": [],
   "source": [
    "model2 = Sequential([\n",
    "    Conv2D(16, 3,  activation='relu', input_shape=(IMG_HEIGHT, IMG_WIDTH ,3)),\n",
    "    MaxPooling2D(),\n",
    "    Conv2D(32, 3, activation='relu'),\n",
    "    MaxPooling2D(),\n",
    "    Conv2D(64, 3, activation='relu'),\n",
    "    MaxPooling2D(),\n",
    "    Flatten(),\n",
    "    Dense(512, activation='relu'),\n",
    "    Dense(3, activation = \"softmax\")\n",
    "])"
   ]
  },
  {
   "cell_type": "code",
   "execution_count": 21,
   "metadata": {},
   "outputs": [],
   "source": [
    "model2.compile(optimizer='adam',\n",
    "              loss=tf.keras.losses.categorical_crossentropy,\n",
    "              metrics=['accuracy'])"
   ]
  },
  {
   "cell_type": "code",
   "execution_count": 22,
   "metadata": {},
   "outputs": [
    {
     "name": "stdout",
     "output_type": "stream",
     "text": [
      "Model: \"sequential\"\n",
      "_________________________________________________________________\n",
      "Layer (type)                 Output Shape              Param #   \n",
      "=================================================================\n",
      "conv2d (Conv2D)              (None, 148, 148, 16)      448       \n",
      "_________________________________________________________________\n",
      "max_pooling2d (MaxPooling2D) (None, 74, 74, 16)        0         \n",
      "_________________________________________________________________\n",
      "conv2d_1 (Conv2D)            (None, 72, 72, 32)        4640      \n",
      "_________________________________________________________________\n",
      "max_pooling2d_1 (MaxPooling2 (None, 36, 36, 32)        0         \n",
      "_________________________________________________________________\n",
      "conv2d_2 (Conv2D)            (None, 34, 34, 64)        18496     \n",
      "_________________________________________________________________\n",
      "max_pooling2d_2 (MaxPooling2 (None, 17, 17, 64)        0         \n",
      "_________________________________________________________________\n",
      "flatten (Flatten)            (None, 18496)             0         \n",
      "_________________________________________________________________\n",
      "dense (Dense)                (None, 512)               9470464   \n",
      "_________________________________________________________________\n",
      "dense_1 (Dense)              (None, 3)                 1539      \n",
      "=================================================================\n",
      "Total params: 9,495,587\n",
      "Trainable params: 9,495,587\n",
      "Non-trainable params: 0\n",
      "_________________________________________________________________\n"
     ]
    }
   ],
   "source": [
    "model2.summary()"
   ]
  },
  {
   "cell_type": "code",
   "execution_count": 23,
   "metadata": {},
   "outputs": [
    {
     "name": "stdout",
     "output_type": "stream",
     "text": [
      "WARNING:tensorflow:From <ipython-input-23-1ba764d9f139>:6: Model.fit_generator (from tensorflow.python.keras.engine.training) is deprecated and will be removed in a future version.\n",
      "Instructions for updating:\n",
      "Please use Model.fit, which supports generators.\n",
      "WARNING:tensorflow:sample_weight modes were coerced from\n",
      "  ...\n",
      "    to  \n",
      "  ['...']\n",
      "WARNING:tensorflow:sample_weight modes were coerced from\n",
      "  ...\n",
      "    to  \n",
      "  ['...']\n",
      "Train for 11 steps, validate for 5 steps\n",
      "Epoch 1/15\n",
      "11/11 [==============================] - 19s 2s/step - loss: 2.5391 - accuracy: 0.3350 - val_loss: 1.1750 - val_accuracy: 0.1562\n",
      "Epoch 2/15\n",
      "11/11 [==============================] - 17s 2s/step - loss: 1.1027 - accuracy: 0.3652 - val_loss: 1.0652 - val_accuracy: 0.4187\n",
      "Epoch 3/15\n",
      "11/11 [==============================] - 17s 2s/step - loss: 1.0911 - accuracy: 0.3674 - val_loss: 1.0621 - val_accuracy: 0.5266\n",
      "Epoch 4/15\n",
      "11/11 [==============================] - 17s 2s/step - loss: 1.0745 - accuracy: 0.4292 - val_loss: 1.0344 - val_accuracy: 0.4891\n",
      "Epoch 5/15\n",
      "11/11 [==============================] - 18s 2s/step - loss: 1.0419 - accuracy: 0.4553 - val_loss: 1.0666 - val_accuracy: 0.4375\n",
      "Epoch 6/15\n",
      "11/11 [==============================] - 20s 2s/step - loss: 1.0196 - accuracy: 0.5032 - val_loss: 1.0673 - val_accuracy: 0.4609\n",
      "Epoch 7/15\n",
      "11/11 [==============================] - 21s 2s/step - loss: 0.9884 - accuracy: 0.5262 - val_loss: 0.9921 - val_accuracy: 0.5188\n",
      "Epoch 8/15\n",
      "11/11 [==============================] - 24s 2s/step - loss: 0.9424 - accuracy: 0.5611 - val_loss: 0.9589 - val_accuracy: 0.5344\n",
      "Epoch 9/15\n",
      "11/11 [==============================] - 23s 2s/step - loss: 0.9227 - accuracy: 0.5665 - val_loss: 0.9408 - val_accuracy: 0.5406\n",
      "Epoch 10/15\n",
      "11/11 [==============================] - 20s 2s/step - loss: 0.9176 - accuracy: 0.5694 - val_loss: 1.0381 - val_accuracy: 0.4812\n",
      "Epoch 11/15\n",
      "11/11 [==============================] - 24s 2s/step - loss: 0.8187 - accuracy: 0.6175 - val_loss: 0.9493 - val_accuracy: 0.5547\n",
      "Epoch 12/15\n",
      "11/11 [==============================] - 28s 3s/step - loss: 0.7570 - accuracy: 0.6729 - val_loss: 0.9141 - val_accuracy: 0.5656\n",
      "Epoch 13/15\n",
      "11/11 [==============================] - 19s 2s/step - loss: 0.7341 - accuracy: 0.6733 - val_loss: 0.9317 - val_accuracy: 0.5578\n",
      "Epoch 14/15\n",
      "11/11 [==============================] - 18s 2s/step - loss: 0.6446 - accuracy: 0.7340 - val_loss: 1.0083 - val_accuracy: 0.5359\n",
      "Epoch 15/15\n",
      "11/11 [==============================] - 18s 2s/step - loss: 0.6325 - accuracy: 0.7251 - val_loss: 0.9726 - val_accuracy: 0.5703\n"
     ]
    }
   ],
   "source": [
    "history2 = model2.fit_generator(\n",
    "    train_data_gen,\n",
    "    steps_per_epoch=total_train // batch_size,\n",
    "    epochs=epochs,\n",
    "    validation_data=val_data_gen,\n",
    "    validation_steps=total_val // batch_size\n",
    ")"
   ]
  },
  {
   "cell_type": "code",
   "execution_count": 24,
   "metadata": {},
   "outputs": [
    {
     "data": {
      "image/png": "[encoded data removed]",
      "text/plain": [
       "<Figure size 1080x576 with 2 Axes>"
      ]
     },
     "metadata": {
      "needs_background": "light"
     },
     "output_type": "display_data"
    }
   ],
   "source": [
    "acc = history2.history['accuracy']\n",
    "val_acc = history2.history['val_accuracy']\n",
    "\n",
    "loss=history2.history['loss']\n",
    "val_loss=history2.history['val_loss']\n",
    "\n",
    "epochs_range = range(epochs)\n",
    "\n",
    "plt.figure(figsize=(15, 8))\n",
    "plt.subplot(1, 2, 1)\n",
    "plt.plot(epochs_range, acc, label='Training Accuracy')\n",
    "plt.plot(epochs_range, val_acc, label='Validation Accuracy')\n",
    "plt.legend(loc='lower right')\n",
    "plt.title('Training and Validation Accuracy')\n",
    "\n",
    "plt.subplot(1, 2, 2)\n",
    "plt.plot(epochs_range, loss, label='Training Loss')\n",
    "plt.plot(epochs_range, val_loss, label='Validation Loss')\n",
    "plt.legend(loc='upper right')\n",
    "plt.title('Training and Validation Loss')\n",
    "plt.show()"
   ]
  },
  {
   "cell_type": "markdown",
   "metadata": {},
   "source": [
    "# MINST model"
   ]
  },
  {
   "cell_type": "code",
   "execution_count": 35,
   "metadata": {},
   "outputs": [],
   "source": [
    "model4 = Sequential([\n",
    "    Conv2D(16, 3,  activation='relu', input_shape=(IMG_HEIGHT, IMG_WIDTH ,3)),\n",
    "    MaxPooling2D(),\n",
    "    Flatten(),\n",
    "    Dense(512, activation = \"relu\"),\n",
    "    Dense(3, activation = \"softmax\")\n",
    "])"
   ]
  },
  {
   "cell_type": "code",
   "execution_count": 36,
   "metadata": {},
   "outputs": [],
   "source": [
    "model4.compile(optimizer='adam',\n",
    "              loss=tf.keras.losses.categorical_crossentropy,\n",
    "              metrics=['accuracy'])"
   ]
  },
  {
   "cell_type": "code",
   "execution_count": 37,
   "metadata": {},
   "outputs": [
    {
     "name": "stdout",
     "output_type": "stream",
     "text": [
      "WARNING:tensorflow:sample_weight modes were coerced from\n",
      "  ...\n",
      "    to  \n",
      "  ['...']\n",
      "WARNING:tensorflow:sample_weight modes were coerced from\n",
      "  ...\n",
      "    to  \n",
      "  ['...']\n",
      "Train for 11 steps, validate for 5 steps\n",
      "Epoch 1/30\n",
      "11/11 [==============================] - 15s 1s/step - loss: 14.7252 - accuracy: 0.3331 - val_loss: 2.5265 - val_accuracy: 0.4250\n",
      "Epoch 2/30\n",
      "11/11 [==============================] - 16s 1s/step - loss: 1.7505 - accuracy: 0.3350 - val_loss: 1.4074 - val_accuracy: 0.1562\n",
      "Epoch 3/30\n",
      "11/11 [==============================] - 15s 1s/step - loss: 1.0779 - accuracy: 0.4263 - val_loss: 1.0129 - val_accuracy: 0.4563\n",
      "Epoch 4/30\n",
      "11/11 [==============================] - 15s 1s/step - loss: 1.0126 - accuracy: 0.4759 - val_loss: 1.0431 - val_accuracy: 0.4688\n",
      "Epoch 5/30\n",
      "11/11 [==============================] - 14s 1s/step - loss: 0.9476 - accuracy: 0.5349 - val_loss: 1.3273 - val_accuracy: 0.4297\n",
      "Epoch 6/30\n",
      "11/11 [==============================] - 15s 1s/step - loss: 0.8530 - accuracy: 0.6024 - val_loss: 0.8706 - val_accuracy: 0.5906\n",
      "Epoch 7/30\n",
      "11/11 [==============================] - 17s 2s/step - loss: 0.8055 - accuracy: 0.6449 - val_loss: 0.8628 - val_accuracy: 0.6000\n",
      "Epoch 8/30\n",
      "11/11 [==============================] - 16s 1s/step - loss: 0.6989 - accuracy: 0.7117 - val_loss: 0.8578 - val_accuracy: 0.5922\n",
      "Epoch 9/30\n",
      "11/11 [==============================] - 16s 1s/step - loss: 0.6271 - accuracy: 0.7534 - val_loss: 1.0293 - val_accuracy: 0.5125\n",
      "Epoch 10/30\n",
      "11/11 [==============================] - 15s 1s/step - loss: 0.6044 - accuracy: 0.7541 - val_loss: 0.9683 - val_accuracy: 0.5547\n",
      "Epoch 11/30\n",
      "11/11 [==============================] - 15s 1s/step - loss: 0.5616 - accuracy: 0.7798 - val_loss: 0.9493 - val_accuracy: 0.5578\n",
      "Epoch 12/30\n",
      "11/11 [==============================] - 15s 1s/step - loss: 0.5151 - accuracy: 0.8054 - val_loss: 1.0832 - val_accuracy: 0.5063\n",
      "Epoch 13/30\n",
      "11/11 [==============================] - 15s 1s/step - loss: 0.5468 - accuracy: 0.7807 - val_loss: 0.8688 - val_accuracy: 0.5859\n",
      "Epoch 14/30\n",
      "11/11 [==============================] - 16s 1s/step - loss: 0.4889 - accuracy: 0.8260 - val_loss: 0.8947 - val_accuracy: 0.5719\n",
      "Epoch 15/30\n",
      "11/11 [==============================] - 15s 1s/step - loss: 0.3939 - accuracy: 0.8792 - val_loss: 0.9541 - val_accuracy: 0.5797\n",
      "Epoch 16/30\n",
      "11/11 [==============================] - 16s 1s/step - loss: 0.3743 - accuracy: 0.8835 - val_loss: 1.0112 - val_accuracy: 0.5297\n",
      "Epoch 17/30\n",
      "11/11 [==============================] - 15s 1s/step - loss: 0.4179 - accuracy: 0.8324 - val_loss: 0.9526 - val_accuracy: 0.5922\n",
      "Epoch 18/30\n",
      "11/11 [==============================] - 16s 1s/step - loss: 0.3420 - accuracy: 0.8942 - val_loss: 0.9333 - val_accuracy: 0.5703\n",
      "Epoch 19/30\n",
      "11/11 [==============================] - 15s 1s/step - loss: 0.3046 - accuracy: 0.9224 - val_loss: 0.9133 - val_accuracy: 0.5844\n",
      "Epoch 20/30\n",
      "11/11 [==============================] - 15s 1s/step - loss: 0.2455 - accuracy: 0.9540 - val_loss: 0.9218 - val_accuracy: 0.5953\n",
      "Epoch 21/30\n",
      "11/11 [==============================] - 15s 1s/step - loss: 0.2446 - accuracy: 0.9360 - val_loss: 0.9475 - val_accuracy: 0.6016\n",
      "Epoch 22/30\n",
      "11/11 [==============================] - 16s 1s/step - loss: 0.2183 - accuracy: 0.9538 - val_loss: 0.9337 - val_accuracy: 0.6094\n",
      "Epoch 23/30\n",
      "11/11 [==============================] - 16s 1s/step - loss: 0.2136 - accuracy: 0.9510 - val_loss: 0.9947 - val_accuracy: 0.5969\n",
      "Epoch 24/30\n",
      "11/11 [==============================] - 15s 1s/step - loss: 0.1819 - accuracy: 0.9595 - val_loss: 1.0592 - val_accuracy: 0.5688\n",
      "Epoch 25/30\n",
      "11/11 [==============================] - 15s 1s/step - loss: 0.1723 - accuracy: 0.9659 - val_loss: 1.0534 - val_accuracy: 0.5953\n",
      "Epoch 26/30\n",
      "11/11 [==============================] - 14s 1s/step - loss: 0.1514 - accuracy: 0.9748 - val_loss: 1.0579 - val_accuracy: 0.5859\n",
      "Epoch 27/30\n",
      "11/11 [==============================] - 14s 1s/step - loss: 0.1417 - accuracy: 0.9763 - val_loss: 1.1570 - val_accuracy: 0.5578\n",
      "Epoch 28/30\n",
      "11/11 [==============================] - 14s 1s/step - loss: 0.1236 - accuracy: 0.9827 - val_loss: 1.0909 - val_accuracy: 0.5859\n",
      "Epoch 29/30\n",
      "11/11 [==============================] - 14s 1s/step - loss: 0.1260 - accuracy: 0.9777 - val_loss: 1.0865 - val_accuracy: 0.5875\n",
      "Epoch 30/30\n",
      "11/11 [==============================] - 15s 1s/step - loss: 0.1029 - accuracy: 0.9856 - val_loss: 1.1645 - val_accuracy: 0.5875\n"
     ]
    }
   ],
   "source": [
    "history4 = model4.fit_generator(\n",
    "    train_data_gen,\n",
    "    steps_per_epoch=total_train // batch_size,\n",
    "    epochs=epochs,\n",
    "    validation_data=val_data_gen,\n",
    "    validation_steps=total_val // batch_size\n",
    ")"
   ]
  },
  {
   "cell_type": "code",
   "execution_count": 38,
   "metadata": {},
   "outputs": [
    {
     "data": {
      "image/png": "[encoded data removed]",
      "text/plain": [
       "<Figure size 1080x576 with 2 Axes>"
      ]
     },
     "metadata": {
      "needs_background": "light"
     },
     "output_type": "display_data"
    }
   ],
   "source": [
    "acc = history4.history['accuracy']\n",
    "val_acc = history4.history['val_accuracy']\n",
    "\n",
    "loss=history4.history['loss']\n",
    "val_loss=history4.history['val_loss']\n",
    "\n",
    "epochs_range = range(epochs)\n",
    "\n",
    "plt.figure(figsize=(15, 8))\n",
    "plt.subplot(1, 2, 1)\n",
    "plt.plot(epochs_range, acc, label='Training Accuracy')\n",
    "plt.plot(epochs_range, val_acc, label='Validation Accuracy')\n",
    "plt.legend(loc='lower right')\n",
    "plt.title('Training and Validation Accuracy')\n",
    "\n",
    "plt.subplot(1, 2, 2)\n",
    "plt.plot(epochs_range, loss, label='Training Loss')\n",
    "plt.plot(epochs_range, val_loss, label='Validation Loss')\n",
    "plt.legend(loc='upper right')\n",
    "plt.title('Training and Validation Loss')\n",
    "plt.show()"
   ]
  },
  {
   "cell_type": "markdown",
   "metadata": {},
   "source": [
    "# Use a pretrained convnet"
   ]
  },
  {
   "cell_type": "code",
   "execution_count": 22,
   "metadata": {},
   "outputs": [
    {
     "name": "stdout",
     "output_type": "stream",
     "text": [
      "Downloading data from https://github.com/fchollet/deep-learning-models/releases/download/v0.1/vgg16_weights_tf_dim_ordering_tf_kernels_notop.h5\n",
      "58892288/58889256 [==============================] - 227s 4us/step\n"
     ]
    }
   ],
   "source": [
    "conv_base = VGG16(weights = \"imagenet\", \n",
    "                 include_top = False,\n",
    "                 input_shape = (150, 150, 3))"
   ]
  },
  {
   "cell_type": "code",
   "execution_count": null,
   "metadata": {},
   "outputs": [],
   "source": []
  },
  {
   "cell_type": "code",
   "execution_count": null,
   "metadata": {},
   "outputs": [],
   "source": []
  },
  {
   "cell_type": "code",
   "execution_count": null,
   "metadata": {},
   "outputs": [],
   "source": []
  },
  {
   "cell_type": "code",
   "execution_count": null,
   "metadata": {},
   "outputs": [],
   "source": []
  },
  {
   "cell_type": "code",
   "execution_count": null,
   "metadata": {},
   "outputs": [],
   "source": []
  }
 ],
 "metadata": {
  "kernelspec": {
   "display_name": "Python 3",
   "language": "python",
   "name": "python3"
  },
  "language_info": {
   "codemirror_mode": {
    "name": "ipython",
    "version": 3
   },
   "file_extension": ".py",
   "mimetype": "text/x-python",
   "name": "python",
   "nbconvert_exporter": "python",
   "pygments_lexer": "ipython3",
   "version": "3.7.4"
  }
 },
 "nbformat": 4,
 "nbformat_minor": 4
}
