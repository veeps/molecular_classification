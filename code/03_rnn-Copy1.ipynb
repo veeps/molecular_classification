{
 "cells": [
  {
   "cell_type": "markdown",
   "metadata": {},
   "source": [
    "# Building a RNN on SMILES data"
   ]
  },
  {
   "cell_type": "code",
   "execution_count": 7,
   "metadata": {},
   "outputs": [],
   "source": [
    "from __future__ import absolute_import, division, print_function, unicode_literals"
   ]
  },
  {
   "cell_type": "code",
   "execution_count": 156,
   "metadata": {},
   "outputs": [],
   "source": [
    "import pandas as pd\n",
    "import numpy as np\n",
    "import tensorflow as tf\n",
    "import os\n",
    "import pickle\n",
    "\n",
    "\n",
    "from tensorflow.keras.models import Sequential\n",
    "from tensorflow.keras.layers import Embedding, SimpleRNN, Dense\n",
    "from sklearn.model_selection import train_test_split\n",
    "from sklearn.metrics import confusion_matrix\n",
    "from sklearn.metrics import accuracy_score\n",
    "\n",
    "\n",
    "\n",
    "#### Sample\n",
    "from tensorflow.keras.datasets import imdb\n",
    "from tensorflow.keras.preprocessing import sequence\n",
    "from tensorflow.keras.preprocessing.text import Tokenizer\n",
    "\n",
    "%run ../assets/accuracy_loss_plots.py"
   ]
  },
  {
   "cell_type": "markdown",
   "metadata": {},
   "source": [
    "## Read in data"
   ]
  },
  {
   "cell_type": "code",
   "execution_count": 122,
   "metadata": {},
   "outputs": [],
   "source": [
    "df = pd.read_csv(\"../data/CID_properties_nr.csv\")"
   ]
  },
  {
   "cell_type": "code",
   "execution_count": 123,
   "metadata": {},
   "outputs": [],
   "source": [
    "# lowercase column names\n",
    "df.columns = df.columns.str.lower()"
   ]
  },
  {
   "cell_type": "code",
   "execution_count": 124,
   "metadata": {},
   "outputs": [],
   "source": [
    "# remove extra classes\n",
    "index_names = df[(df[\"drug_class\"] == \"antineoplastic\") | (df[\"drug_class\"] == \"cns\") | (df[\"drug_class\"] == \"cardio\")].index\n",
    "\n",
    "df = df.loc[index_names]"
   ]
  },
  {
   "cell_type": "code",
   "execution_count": 131,
   "metadata": {},
   "outputs": [
    {
     "data": {
      "text/plain": [
       "0    1174\n",
       "1    1141\n",
       "2     787\n",
       "Name: drug_class, dtype: int64"
      ]
     },
     "execution_count": 131,
     "metadata": {},
     "output_type": "execute_result"
    }
   ],
   "source": [
    "df[\"drug_class\"].value_counts()"
   ]
  },
  {
   "cell_type": "markdown",
   "metadata": {},
   "source": [
    "## Set up X and y variables"
   ]
  },
  {
   "cell_type": "code",
   "execution_count": 126,
   "metadata": {},
   "outputs": [],
   "source": [
    "# Make my drug class variable categorical"
   ]
  },
  {
   "cell_type": "code",
   "execution_count": 127,
   "metadata": {},
   "outputs": [],
   "source": [
    "classes_dict = {\n",
    "    \"antineoplastic\": 0,\n",
    "    \"cns\": 1,\n",
    "    \"cardio\": 2}"
   ]
  },
  {
   "cell_type": "code",
   "execution_count": 128,
   "metadata": {},
   "outputs": [
    {
     "data": {
      "text/html": [
       "<div>\n",
       "<style scoped>\n",
       "    .dataframe tbody tr th:only-of-type {\n",
       "        vertical-align: middle;\n",
       "    }\n",
       "\n",
       "    .dataframe tbody tr th {\n",
       "        vertical-align: top;\n",
       "    }\n",
       "\n",
       "    .dataframe thead th {\n",
       "        text-align: right;\n",
       "    }\n",
       "</style>\n",
       "<table border=\"1\" class=\"dataframe\">\n",
       "  <thead>\n",
       "    <tr style=\"text-align: right;\">\n",
       "      <th></th>\n",
       "      <th>cid</th>\n",
       "      <th>hbondacceptorcount</th>\n",
       "      <th>hbonddonorcount</th>\n",
       "      <th>isomericsmiles</th>\n",
       "      <th>molecularweight</th>\n",
       "      <th>xlogp</th>\n",
       "      <th>drug_class</th>\n",
       "      <th>desalted_smiles</th>\n",
       "    </tr>\n",
       "  </thead>\n",
       "  <tbody>\n",
       "    <tr>\n",
       "      <th>1</th>\n",
       "      <td>134694070</td>\n",
       "      <td>9</td>\n",
       "      <td>6</td>\n",
       "      <td>C1CN=C(N1)NC2=C(C3=NC=CN=C3C=C2)Br.[C@@H](C(C(...</td>\n",
       "      <td>442.226</td>\n",
       "      <td>NaN</td>\n",
       "      <td>2</td>\n",
       "      <td>Brc1c(NC2=NCCN2)ccc2nccnc12</td>\n",
       "    </tr>\n",
       "    <tr>\n",
       "      <th>3</th>\n",
       "      <td>4660557</td>\n",
       "      <td>1</td>\n",
       "      <td>1</td>\n",
       "      <td>C1C2CC3CC1CC(C2)C3NC4=CC=C(C=C4)Br</td>\n",
       "      <td>306.247</td>\n",
       "      <td>5.0</td>\n",
       "      <td>1</td>\n",
       "      <td>Brc1ccc(NC2C3CC4CC(C3)CC2C4)cc1</td>\n",
       "    </tr>\n",
       "    <tr>\n",
       "      <th>4</th>\n",
       "      <td>122175</td>\n",
       "      <td>2</td>\n",
       "      <td>2</td>\n",
       "      <td>CC(CCC(C#C)N)N</td>\n",
       "      <td>126.203</td>\n",
       "      <td>-0.4</td>\n",
       "      <td>0</td>\n",
       "      <td>C#CC(N)CCC(C)N</td>\n",
       "    </tr>\n",
       "    <tr>\n",
       "      <th>5</th>\n",
       "      <td>5281077</td>\n",
       "      <td>1</td>\n",
       "      <td>1</td>\n",
       "      <td>CCC(/C=C/Cl)(C#C)O</td>\n",
       "      <td>144.598</td>\n",
       "      <td>1.5</td>\n",
       "      <td>1</td>\n",
       "      <td>C#CC(O)(/C=C/Cl)CC</td>\n",
       "    </tr>\n",
       "    <tr>\n",
       "      <th>12</th>\n",
       "      <td>92913</td>\n",
       "      <td>1</td>\n",
       "      <td>1</td>\n",
       "      <td>CC(CC1=CC=CC=C1)N(C)CC#C.Cl</td>\n",
       "      <td>223.744</td>\n",
       "      <td>NaN</td>\n",
       "      <td>1</td>\n",
       "      <td>C#CCN(C)C(C)Cc1ccccc1</td>\n",
       "    </tr>\n",
       "  </tbody>\n",
       "</table>\n",
       "</div>"
      ],
      "text/plain": [
       "          cid  hbondacceptorcount  hbonddonorcount  \\\n",
       "1   134694070                   9                6   \n",
       "3     4660557                   1                1   \n",
       "4      122175                   2                2   \n",
       "5     5281077                   1                1   \n",
       "12      92913                   1                1   \n",
       "\n",
       "                                       isomericsmiles  molecularweight  xlogp  \\\n",
       "1   C1CN=C(N1)NC2=C(C3=NC=CN=C3C=C2)Br.[C@@H](C(C(...          442.226    NaN   \n",
       "3                  C1C2CC3CC1CC(C2)C3NC4=CC=C(C=C4)Br          306.247    5.0   \n",
       "4                                      CC(CCC(C#C)N)N          126.203   -0.4   \n",
       "5                                  CCC(/C=C/Cl)(C#C)O          144.598    1.5   \n",
       "12                        CC(CC1=CC=CC=C1)N(C)CC#C.Cl          223.744    NaN   \n",
       "\n",
       "    drug_class                  desalted_smiles  \n",
       "1            2      Brc1c(NC2=NCCN2)ccc2nccnc12  \n",
       "3            1  Brc1ccc(NC2C3CC4CC(C3)CC2C4)cc1  \n",
       "4            0                   C#CC(N)CCC(C)N  \n",
       "5            1               C#CC(O)(/C=C/Cl)CC  \n",
       "12           1            C#CCN(C)C(C)Cc1ccccc1  "
      ]
     },
     "execution_count": 128,
     "metadata": {},
     "output_type": "execute_result"
    }
   ],
   "source": [
    "# map drug classes to numerical\n",
    "df['drug_class'] = df['drug_class'].map(classes_dict)\n",
    "df.head()"
   ]
  },
  {
   "cell_type": "code",
   "execution_count": 130,
   "metadata": {
    "scrolled": true
   },
   "outputs": [
    {
     "data": {
      "text/plain": [
       "0    1174\n",
       "1    1141\n",
       "2     787\n",
       "Name: drug_class, dtype: int64"
      ]
     },
     "execution_count": 130,
     "metadata": {},
     "output_type": "execute_result"
    }
   ],
   "source": [
    "# check that the values are still the same\n",
    "df[\"drug_class\"].value_counts()"
   ]
  },
  {
   "cell_type": "code",
   "execution_count": 132,
   "metadata": {},
   "outputs": [],
   "source": [
    "# set up my X and y variables\n",
    "X = df[\"desalted_smiles\"]\n",
    "y = df[\"drug_class\"]"
   ]
  },
  {
   "cell_type": "code",
   "execution_count": 133,
   "metadata": {},
   "outputs": [],
   "source": [
    "# Split my train and test sets\n",
    "X_train, X_test, y_train, y_test = train_test_split(X, y,\n",
    "                                                    stratify = y, random_state = 42)"
   ]
  },
  {
   "cell_type": "markdown",
   "metadata": {},
   "source": [
    "## Preprocess Text"
   ]
  },
  {
   "cell_type": "code",
   "execution_count": 134,
   "metadata": {},
   "outputs": [],
   "source": [
    "# set up tokenizer\n",
    "tokenizer = Tokenizer(char_level=True, lower = False )\n",
    "tokenizer.fit_on_texts(df[\"desalted_smiles\"])\n",
    "sequence_of_int = tokenizer.texts_to_sequences(df[\"desalted_smiles\"])"
   ]
  },
  {
   "cell_type": "code",
   "execution_count": 135,
   "metadata": {},
   "outputs": [],
   "source": [
    "X_train_tk = tokenizer.texts_to_matrix(X_train, mode='count' )\n",
    "X_test_tk = tokenizer.texts_to_matrix(X_test, mode='count' )"
   ]
  },
  {
   "cell_type": "code",
   "execution_count": 136,
   "metadata": {},
   "outputs": [
    {
     "data": {
      "text/plain": [
       "(2326,)"
      ]
     },
     "execution_count": 136,
     "metadata": {},
     "output_type": "execute_result"
    }
   ],
   "source": [
    "X_train.shape"
   ]
  },
  {
   "cell_type": "code",
   "execution_count": 137,
   "metadata": {},
   "outputs": [
    {
     "data": {
      "text/plain": [
       "(3102, 8)"
      ]
     },
     "execution_count": 137,
     "metadata": {},
     "output_type": "execute_result"
    }
   ],
   "source": [
    "df.shape"
   ]
  },
  {
   "cell_type": "code",
   "execution_count": 138,
   "metadata": {},
   "outputs": [
    {
     "name": "stdout",
     "output_type": "stream",
     "text": [
      "Found 50 unique tokens.\n"
     ]
    }
   ],
   "source": [
    "# This is how you can recover the word index that was computed\n",
    "word_index = tokenizer.word_index\n",
    "print('Found %s unique tokens.' % len(word_index))"
   ]
  },
  {
   "cell_type": "code",
   "execution_count": 139,
   "metadata": {},
   "outputs": [
    {
     "data": {
      "text/plain": [
       "{'C': 1,\n",
       " 'c': 2,\n",
       " '(': 3,\n",
       " ')': 4,\n",
       " 'O': 5,\n",
       " '@': 6,\n",
       " '1': 7,\n",
       " '[': 8,\n",
       " ']': 9,\n",
       " '=': 10,\n",
       " 'H': 11,\n",
       " 'N': 12,\n",
       " '2': 13,\n",
       " '3': 14,\n",
       " 'n': 15,\n",
       " '4': 16,\n",
       " '/': 17,\n",
       " '5': 18,\n",
       " '-': 19,\n",
       " 'S': 20,\n",
       " 'l': 21,\n",
       " 'F': 22,\n",
       " '+': 23,\n",
       " '6': 24,\n",
       " '\\\\': 25,\n",
       " '.': 26,\n",
       " 'P': 27,\n",
       " '#': 28,\n",
       " 's': 29,\n",
       " 'o': 30,\n",
       " '7': 31,\n",
       " 'B': 32,\n",
       " 'r': 33,\n",
       " '8': 34,\n",
       " 't': 35,\n",
       " 'I': 36,\n",
       " '9': 37,\n",
       " 'e': 38,\n",
       " 'A': 39,\n",
       " 'G': 40,\n",
       " 'm': 41,\n",
       " 'M': 42,\n",
       " '%': 43,\n",
       " '0': 44,\n",
       " 'i': 45,\n",
       " 'T': 46,\n",
       " 'u': 47,\n",
       " 'a': 48,\n",
       " 'b': 49,\n",
       " 'X': 50}"
      ]
     },
     "execution_count": 139,
     "metadata": {},
     "output_type": "execute_result"
    }
   ],
   "source": [
    "# tokenizer keeps the special characters by default! \n",
    "# This is useful for me since the special characters have significance in SMILES\n",
    "word_index"
   ]
  },
  {
   "cell_type": "markdown",
   "metadata": {},
   "source": [
    "# Build model"
   ]
  },
  {
   "cell_type": "code",
   "execution_count": 140,
   "metadata": {},
   "outputs": [
    {
     "name": "stdout",
     "output_type": "stream",
     "text": [
      "Model: \"sequential_4\"\n",
      "_________________________________________________________________\n",
      "Layer (type)                 Output Shape              Param #   \n",
      "=================================================================\n",
      "embedding_4 (Embedding)      (None, None, 32)          32000     \n",
      "_________________________________________________________________\n",
      "simple_rnn_4 (SimpleRNN)     (None, 32)                2080      \n",
      "_________________________________________________________________\n",
      "dense_4 (Dense)              (None, 3)                 99        \n",
      "=================================================================\n",
      "Total params: 34,179\n",
      "Trainable params: 34,179\n",
      "Non-trainable params: 0\n",
      "_________________________________________________________________\n"
     ]
    }
   ],
   "source": [
    "model = Sequential()\n",
    "model.add(Embedding(1000,32))\n",
    "model.add(SimpleRNN(32))\n",
    "model.add(Dense(3, activation = \"softmax\"))\n",
    "model.summary()"
   ]
  },
  {
   "cell_type": "code",
   "execution_count": 141,
   "metadata": {},
   "outputs": [],
   "source": [
    "model.compile(optimizer = \"adam\", loss =  \"sparse_categorical_crossentropy\",\n",
    "              metrics=['accuracy'])"
   ]
  },
  {
   "cell_type": "code",
   "execution_count": 144,
   "metadata": {},
   "outputs": [
    {
     "name": "stdout",
     "output_type": "stream",
     "text": [
      "Train on 1860 samples, validate on 466 samples\n",
      "Epoch 1/20\n",
      "1860/1860 [==============================] - 0s 246us/sample - loss: 0.8195 - accuracy: 0.6355 - val_loss: 0.8615 - val_accuracy: 0.6052\n",
      "Epoch 2/20\n",
      "1860/1860 [==============================] - 0s 154us/sample - loss: 0.8028 - accuracy: 0.6452 - val_loss: 0.8699 - val_accuracy: 0.6009\n",
      "Epoch 3/20\n",
      "1860/1860 [==============================] - 0s 152us/sample - loss: 0.8044 - accuracy: 0.6446 - val_loss: 0.8539 - val_accuracy: 0.6094\n",
      "Epoch 4/20\n",
      "1860/1860 [==============================] - 0s 158us/sample - loss: 0.7812 - accuracy: 0.6522 - val_loss: 0.8417 - val_accuracy: 0.6137\n",
      "Epoch 5/20\n",
      "1860/1860 [==============================] - 0s 150us/sample - loss: 0.7842 - accuracy: 0.6516 - val_loss: 0.8715 - val_accuracy: 0.5966\n",
      "Epoch 6/20\n",
      "1860/1860 [==============================] - 0s 145us/sample - loss: 0.7809 - accuracy: 0.6559 - val_loss: 0.8639 - val_accuracy: 0.6009\n",
      "Epoch 7/20\n",
      "1860/1860 [==============================] - 0s 190us/sample - loss: 0.7732 - accuracy: 0.6565 - val_loss: 0.8443 - val_accuracy: 0.5987\n",
      "Epoch 8/20\n",
      "1860/1860 [==============================] - 0s 163us/sample - loss: 0.7535 - accuracy: 0.6656 - val_loss: 0.8381 - val_accuracy: 0.6137\n",
      "Epoch 9/20\n",
      "1860/1860 [==============================] - 0s 175us/sample - loss: 0.7394 - accuracy: 0.6774 - val_loss: 0.8320 - val_accuracy: 0.5966\n",
      "Epoch 10/20\n",
      "1860/1860 [==============================] - 0s 165us/sample - loss: 0.7404 - accuracy: 0.6720 - val_loss: 0.8275 - val_accuracy: 0.6180\n",
      "Epoch 11/20\n",
      "1860/1860 [==============================] - 0s 154us/sample - loss: 0.7329 - accuracy: 0.6774 - val_loss: 0.8220 - val_accuracy: 0.6266\n",
      "Epoch 12/20\n",
      "1860/1860 [==============================] - 0s 151us/sample - loss: 0.7251 - accuracy: 0.6785 - val_loss: 0.8239 - val_accuracy: 0.6288\n",
      "Epoch 13/20\n",
      "1860/1860 [==============================] - 0s 144us/sample - loss: 0.7091 - accuracy: 0.6855 - val_loss: 0.8383 - val_accuracy: 0.6116\n",
      "Epoch 14/20\n",
      "1860/1860 [==============================] - 0s 158us/sample - loss: 0.7064 - accuracy: 0.6887 - val_loss: 0.8333 - val_accuracy: 0.6180\n",
      "Epoch 15/20\n",
      "1860/1860 [==============================] - 0s 176us/sample - loss: 0.7146 - accuracy: 0.6892 - val_loss: 0.8372 - val_accuracy: 0.6180\n",
      "Epoch 16/20\n",
      "1860/1860 [==============================] - 0s 156us/sample - loss: 0.7168 - accuracy: 0.6903 - val_loss: 0.8424 - val_accuracy: 0.6438\n",
      "Epoch 17/20\n",
      "1860/1860 [==============================] - 0s 155us/sample - loss: 0.7040 - accuracy: 0.6930 - val_loss: 0.8238 - val_accuracy: 0.6330\n",
      "Epoch 18/20\n",
      "1860/1860 [==============================] - 0s 192us/sample - loss: 0.6822 - accuracy: 0.7134 - val_loss: 0.8527 - val_accuracy: 0.6309\n",
      "Epoch 19/20\n",
      "1860/1860 [==============================] - 0s 166us/sample - loss: 0.6805 - accuracy: 0.7097 - val_loss: 0.8459 - val_accuracy: 0.6245\n",
      "Epoch 20/20\n",
      "1860/1860 [==============================] - 0s 158us/sample - loss: 0.6640 - accuracy: 0.7177 - val_loss: 0.8445 - val_accuracy: 0.6459\n"
     ]
    }
   ],
   "source": [
    "history = model.fit(X_train_tk, y_train,\n",
    "                   epochs = 20,\n",
    "                   batch_size = 128, \n",
    "                   validation_split = 0.2)"
   ]
  },
  {
   "cell_type": "code",
   "execution_count": 157,
   "metadata": {},
   "outputs": [
    {
     "data": {
      "image/png": "[encoded data removed]",
      "text/plain": [
       "<Figure size 1080x576 with 2 Axes>"
      ]
     },
     "metadata": {
      "needs_background": "light"
     },
     "output_type": "display_data"
    }
   ],
   "source": [
    "plot_accuracy_loss(history)"
   ]
  }
 ],
 "metadata": {
  "kernelspec": {
   "display_name": "Python 3",
   "language": "python",
   "name": "python3"
  },
  "language_info": {
   "codemirror_mode": {
    "name": "ipython",
    "version": 3
   },
   "file_extension": ".py",
   "mimetype": "text/x-python",
   "name": "python",
   "nbconvert_exporter": "python",
   "pygments_lexer": "ipython3",
   "version": "3.7.4"
  }
 },
 "nbformat": 4,
 "nbformat_minor": 2
}
